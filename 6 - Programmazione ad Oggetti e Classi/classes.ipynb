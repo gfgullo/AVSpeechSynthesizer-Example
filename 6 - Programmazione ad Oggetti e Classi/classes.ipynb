{
  "nbformat": 4,
  "nbformat_minor": 0,
  "metadata": {
    "colab": {
      "name": "classes.ipynb",
      "provenance": [],
      "include_colab_link": true
    },
    "kernelspec": {
      "name": "python3",
      "display_name": "Python 3"
    }
  },
  "cells": [
    {
      "cell_type": "markdown",
      "metadata": {
        "id": "view-in-github",
        "colab_type": "text"
      },
      "source": [
        "<a href=\"https://colab.research.google.com/github/gfgullo/AVSpeechSynthesizer-Example/blob/master/6%20-%20Programmazione%20ad%20Oggetti%20e%20Classi/classes.ipynb\" target=\"_parent\"><img src=\"https://colab.research.google.com/assets/colab-badge.svg\" alt=\"Open In Colab\"/></a>"
      ]
    },
    {
      "cell_type": "markdown",
      "metadata": {
        "id": "Y2YGOiGmdnkX",
        "colab_type": "text"
      },
      "source": [
        "# La Programmazione ad Oggetti"
      ]
    },
    {
      "cell_type": "markdown",
      "metadata": {
        "id": "biUZWAHNdrwY",
        "colab_type": "text"
      },
      "source": [
        "## Le Classi"
      ]
    },
    {
      "cell_type": "code",
      "metadata": {
        "id": "3GEJI_y8diQn",
        "colab_type": "code",
        "colab": {}
      },
      "source": [
        "class Triangle:\n",
        "  \n",
        "    def area(self, b, h):\n",
        "        return b*h/2.\n",
        "  \n",
        "    def perimeter(self, a, b, c):\n",
        "        return a+b+c"
      ],
      "execution_count": 0,
      "outputs": []
    },
    {
      "cell_type": "code",
      "metadata": {
        "id": "P4AoVGXFdvR-",
        "colab_type": "code",
        "colab": {
          "base_uri": "https://localhost:8080/",
          "height": 52
        },
        "outputId": "9a3517dc-1632-4f87-d13f-f4d273db28a4"
      },
      "source": [
        "triangle = Triangle() # istanziamo la classe (creiamo l'oggetto)\n",
        "\n",
        "print(\"Area del triangolo: %2.f\" % triangle.area(3.,4.))\n",
        "print(\"Perimetro del triangolo: %2.f\" % triangle.perimeter(5.,3.,5.))"
      ],
      "execution_count": 2,
      "outputs": [
        {
          "output_type": "stream",
          "text": [
            "Area del triangolo:  6\n",
            "Perimetro del triangolo: 13\n"
          ],
          "name": "stdout"
        }
      ]
    },
    {
      "cell_type": "code",
      "metadata": {
        "id": "gshHCGPrdx4f",
        "colab_type": "code",
        "colab": {
          "base_uri": "https://localhost:8080/",
          "height": 52
        },
        "outputId": "3ed0d742-b556-4bea-e51b-f24a36f4c202"
      },
      "source": [
        "class Triangle:\n",
        "  \n",
        "    def __init__(self, a, b, c, h):\n",
        "    \n",
        "        # Questa istruzione è equivalente a quella sotto\n",
        "        #self.a, self.b, self.c, self.h = a, b, c ,h\n",
        "\n",
        "        self.a = a\n",
        "        self.b = b\n",
        "        self.c = c\n",
        "        self.h = h\n",
        "\n",
        "    \n",
        "    def area(self):\n",
        "            return self.b*self.h/2\n",
        "    \n",
        "    \n",
        "    def perimeter(self):\n",
        "        return self.a+self.b+self.c\n",
        "  \n",
        "  \n",
        "triangle = Triangle(5.,3.,5.,4.)\n",
        "print(\"Area del triangolo: %2.f\" % triangle.area())\n",
        "print(\"Perimetro del triangolo: %2.f\" % triangle.perimeter())"
      ],
      "execution_count": 3,
      "outputs": [
        {
          "output_type": "stream",
          "text": [
            "Area del triangolo:  6\n",
            "Perimetro del triangolo: 13\n"
          ],
          "name": "stdout"
        }
      ]
    },
    {
      "cell_type": "code",
      "metadata": {
        "id": "BbPrqkyPh78c",
        "colab_type": "code",
        "colab": {
          "base_uri": "https://localhost:8080/",
          "height": 52
        },
        "outputId": "c7b1071b-d749-4e41-edcb-3b616f59400c"
      },
      "source": [
        "class Triangle:\n",
        "  \n",
        "  \n",
        "    def __init__(self, a, b, c, h):\n",
        "        self.a, self.b, self.c, self.h = a, b, c ,h\n",
        "\n",
        "    \n",
        "    def area(self):\n",
        "        return float(self.b)*float(self.h)/2.\n",
        "  \n",
        "  \n",
        "    def perimeter(self):\n",
        "        return self.a+self.b+self.c\n",
        "  \n",
        "  \n",
        "    def print_info(self):\n",
        "        print(\"Area del triangolo: %2.f\" % self.area())\n",
        "        print(\"Perimetro del triangolo: %2.f\" % self.perimeter())\n",
        "\n",
        "\n",
        "triangle = Triangle(5.,3.,5.,4.)\n",
        "triangle.print_info()"
      ],
      "execution_count": 4,
      "outputs": [
        {
          "output_type": "stream",
          "text": [
            "Area del triangolo:  6\n",
            "Perimetro del triangolo: 13\n"
          ],
          "name": "stdout"
        }
      ]
    },
    {
      "cell_type": "code",
      "metadata": {
        "id": "vobfyPXqiCaj",
        "colab_type": "code",
        "colab": {
          "base_uri": "https://localhost:8080/",
          "height": 416
        },
        "outputId": "851088a2-c50c-4bb2-e21c-8c55c0082964"
      },
      "source": [
        "help(triangle)"
      ],
      "execution_count": 5,
      "outputs": [
        {
          "output_type": "stream",
          "text": [
            "Help on Triangle in module __main__ object:\n",
            "\n",
            "class Triangle(builtins.object)\n",
            " |  Methods defined here:\n",
            " |  \n",
            " |  __init__(self, a, b, c, h)\n",
            " |      Initialize self.  See help(type(self)) for accurate signature.\n",
            " |  \n",
            " |  area(self)\n",
            " |  \n",
            " |  perimeter(self)\n",
            " |  \n",
            " |  print_info(self)\n",
            " |  \n",
            " |  ----------------------------------------------------------------------\n",
            " |  Data descriptors defined here:\n",
            " |  \n",
            " |  __dict__\n",
            " |      dictionary for instance variables (if defined)\n",
            " |  \n",
            " |  __weakref__\n",
            " |      list of weak references to the object (if defined)\n",
            "\n"
          ],
          "name": "stdout"
        }
      ]
    },
    {
      "cell_type": "code",
      "metadata": {
        "id": "6X34PMmniJ4l",
        "colab_type": "code",
        "colab": {
          "base_uri": "https://localhost:8080/",
          "height": 503
        },
        "outputId": "2cce904d-b533-4d3d-9d50-c2a7cfab5194"
      },
      "source": [
        "class Triangle:\n",
        "  \n",
        "  \n",
        "    \"\"\"\n",
        "    Questa classe rappresenta un triangolo\n",
        "    \"\"\"\n",
        "    \n",
        "    def __init__(self, a, b, c, h):\n",
        "        self.a, self.b, self.c, self.h = a, b, c ,h\n",
        "\n",
        "    \n",
        "    def area(self):\n",
        "        \n",
        "        \"\"\"\n",
        "        Calcolo dell'area del triangolo\n",
        "        \"\"\"\n",
        "        \n",
        "        return float(self.b)*float(self.h)/2.\n",
        "  \n",
        "  \n",
        "    def perimeter(self):\n",
        "        \n",
        "        \"\"\"\n",
        "        Calcolo del perimetro del triangolo\n",
        "        \"\"\"\n",
        "        \n",
        "        return self.a+self.b+self.c\n",
        "  \n",
        "  \n",
        "    def print_info(self):\n",
        "        \n",
        "        \"\"\"\n",
        "        Stampiamo area e perimetro del triangolo\n",
        "        \"\"\"\n",
        "        \n",
        "        print(\"Area del triangolo: %2.f\" % self.area())\n",
        "        print(\"Perimetro del triangolo: %2.f\" % self.perimeter())\n",
        "\n",
        "\n",
        "triangle = Triangle(5.,3.,5.,4.)\n",
        "help(triangle)"
      ],
      "execution_count": 6,
      "outputs": [
        {
          "output_type": "stream",
          "text": [
            "Help on Triangle in module __main__ object:\n",
            "\n",
            "class Triangle(builtins.object)\n",
            " |  Questa classe rappresenta un triangolo\n",
            " |  \n",
            " |  Methods defined here:\n",
            " |  \n",
            " |  __init__(self, a, b, c, h)\n",
            " |      Initialize self.  See help(type(self)) for accurate signature.\n",
            " |  \n",
            " |  area(self)\n",
            " |      Calcolo dell'area del triangolo\n",
            " |  \n",
            " |  perimeter(self)\n",
            " |      Calcolo del perimetro del triangolo\n",
            " |  \n",
            " |  print_info(self)\n",
            " |      Stampiamo area e perimetro del triangolo\n",
            " |  \n",
            " |  ----------------------------------------------------------------------\n",
            " |  Data descriptors defined here:\n",
            " |  \n",
            " |  __dict__\n",
            " |      dictionary for instance variables (if defined)\n",
            " |  \n",
            " |  __weakref__\n",
            " |      list of weak references to the object (if defined)\n",
            "\n"
          ],
          "name": "stdout"
        }
      ]
    }
  ]
}