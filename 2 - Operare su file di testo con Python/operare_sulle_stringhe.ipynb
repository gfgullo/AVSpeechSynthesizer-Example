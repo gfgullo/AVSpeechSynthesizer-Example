{
  "nbformat": 4,
  "nbformat_minor": 0,
  "metadata": {
    "colab": {
      "name": "operare_sulle_stringhe.ipynb",
      "version": "0.3.2",
      "provenance": [],
      "include_colab_link": true
    },
    "kernelspec": {
      "name": "python3",
      "display_name": "Python 3"
    }
  },
  "cells": [
    {
      "cell_type": "markdown",
      "metadata": {
        "id": "view-in-github",
        "colab_type": "text"
      },
      "source": [
        "<a href=\"https://colab.research.google.com/github/gfgullo/AVSpeechSynthesizer-Example/blob/master/2%20-%20Operare%20su%20file%20di%20testo%20con%20Python/operare_sulle_stringhe.ipynb\" target=\"_parent\"><img src=\"https://colab.research.google.com/assets/colab-badge.svg\" alt=\"Open In Colab\"/></a>"
      ]
    },
    {
      "metadata": {
        "id": "I1PPWriTtctt",
        "colab_type": "text"
      },
      "cell_type": "markdown",
      "source": [
        "# Operare sulle stringhe in Python\n",
        "\n",
        "In questo notebook vederemo alcune funzioni utili che Python ci mette a disposizione per operare sulle stringhe.\n",
        "<br>\n",
        "\n",
        "## Il tipo String\n",
        "In Python una stringa è una sequenza di caratteri immutabile, cosa vuol dire questo ? Che possiamo accedere a elementi e sotto-sequenze di una stringa utilizzando **l'indexing** e lo **slicing** ma non possiamo modificarne i valori."
      ]
    },
    {
      "metadata": {
        "id": "kAlcRiXLtakM",
        "colab_type": "code",
        "colab": {
          "base_uri": "https://localhost:8080/",
          "height": 120
        },
        "outputId": "fdc063c0-5cdf-4c21-a26f-8244132aae93"
      },
      "cell_type": "code",
      "source": [
        "# Definiamo una stringa\n",
        "my_string =\"ProfessionAI spacca\"\n",
        "print(my_string)\n",
        "\n",
        "# Stampiamo solo il primo carattere\n",
        "print(my_string[0]) # indexing\n",
        "\n",
        "# Stampiamo solo l'ultimo carattere\n",
        "print(my_string[-1])\n",
        "\n",
        "# Stampiamo i primi 3 caratteri\n",
        "print(my_string[:3]) # slicing\n",
        "\n",
        "# Stampiamo 4 e 5 carattere\n",
        "print(my_string[3:5])\n",
        "\n",
        "# Stampiam tutto tranne gli ultimi due caratteri\n",
        "print(my_string[:-2])\n"
      ],
      "execution_count": 1,
      "outputs": [
        {
          "output_type": "stream",
          "text": [
            "ProfessionAI spacca\n",
            "P\n",
            "a\n",
            "Pro\n",
            "fe\n",
            "ProfessionAI spac\n"
          ],
          "name": "stdout"
        }
      ]
    },
    {
      "metadata": {
        "id": "9TRFu4i4vkiI",
        "colab_type": "text"
      },
      "cell_type": "markdown",
      "source": [
        "Il tenativo di modificare uno o più caratteri di una stringa genererà un'eccezione."
      ]
    },
    {
      "metadata": {
        "id": "JrdcLVJUvbJR",
        "colab_type": "code",
        "colab": {
          "base_uri": "https://localhost:8080/",
          "height": 164
        },
        "outputId": "ebc36961-ad41-475c-9177-43ed760697eb"
      },
      "cell_type": "code",
      "source": [
        "my_string[0] = \"F\""
      ],
      "execution_count": 2,
      "outputs": [
        {
          "output_type": "error",
          "ename": "TypeError",
          "evalue": "ignored",
          "traceback": [
            "\u001b[0;31m---------------------------------------------------------------------------\u001b[0m",
            "\u001b[0;31mTypeError\u001b[0m                                 Traceback (most recent call last)",
            "\u001b[0;32m<ipython-input-2-b9d0b2494000>\u001b[0m in \u001b[0;36m<module>\u001b[0;34m()\u001b[0m\n\u001b[0;32m----> 1\u001b[0;31m \u001b[0mmy_string\u001b[0m\u001b[0;34m[\u001b[0m\u001b[0;36m0\u001b[0m\u001b[0;34m]\u001b[0m \u001b[0;34m=\u001b[0m \u001b[0;34m\"F\"\u001b[0m\u001b[0;34m\u001b[0m\u001b[0;34m\u001b[0m\u001b[0m\n\u001b[0m",
            "\u001b[0;31mTypeError\u001b[0m: 'str' object does not support item assignment"
          ]
        }
      ]
    },
    {
      "metadata": {
        "id": "hw5z5MS_wSeL",
        "colab_type": "text"
      },
      "cell_type": "markdown",
      "source": [
        "Trattandosi di una sequenza possiamo conoscere il numero di elementi, e quindi di caratteri, che compongono una stringa utilizzando la funzione *len*."
      ]
    },
    {
      "metadata": {
        "id": "8a34C420wX_M",
        "colab_type": "code",
        "colab": {
          "base_uri": "https://localhost:8080/",
          "height": 34
        },
        "outputId": "dcb7db29-e43e-4fa6-fcc3-d02bb1cc2b2f"
      },
      "cell_type": "code",
      "source": [
        "len(my_string)"
      ],
      "execution_count": 3,
      "outputs": [
        {
          "output_type": "execute_result",
          "data": {
            "text/plain": [
              "19"
            ]
          },
          "metadata": {
            "tags": []
          },
          "execution_count": 3
        }
      ]
    },
    {
      "metadata": {
        "id": "0rfqOZD7wCUx",
        "colab_type": "text"
      },
      "cell_type": "markdown",
      "source": [
        "## Metodi utili"
      ]
    },
    {
      "metadata": {
        "id": "4a46K1ravujC",
        "colab_type": "text"
      },
      "cell_type": "markdown",
      "source": [
        "Come tutte i tipi buil-in di Python, le stringhe sono oggetti e quindi hanno dei metodi, puoi trovare la lista completa dei metodi [a questo link](https://www.w3schools.com/python/python_ref_string.asp), vediamo insieme i più utili. \n",
        "<br><br>\n",
        "Possiamo convertire i caratteri di una stringa in minuscolo/maiuscolo utilizzando i metodi *lower/upper*."
      ]
    },
    {
      "metadata": {
        "id": "m6VLxFjYvtVS",
        "colab_type": "code",
        "colab": {
          "base_uri": "https://localhost:8080/",
          "height": 51
        },
        "outputId": "336c4941-bcb1-4ffd-c8dd-59d9ea65ad7e"
      },
      "cell_type": "code",
      "source": [
        "my_string =\"ProfessionAI spacca\"\n",
        "\n",
        "my_string_lower = my_string.lower()\n",
        "print(\"Tutto minuscolo: %s\" % my_string_lower)\n",
        "\n",
        "my_string_upper = my_string.upper()\n",
        "print(\"Tutto maiuscolo: %s\" % my_string_upper)"
      ],
      "execution_count": 6,
      "outputs": [
        {
          "output_type": "stream",
          "text": [
            "Tutto minuscolo: professionai spacca\n",
            "Tutto maiuscolo: PROFESSIONAI SPACCA\n"
          ],
          "name": "stdout"
        }
      ]
    },
    {
      "metadata": {
        "id": "ZgjxCGIiwxAs",
        "colab_type": "text"
      },
      "cell_type": "markdown",
      "source": [
        "Possiamo dividere le parole in una stringa utilizzando il metodo *split()*, il risultato sarà una lista con le singole parole."
      ]
    },
    {
      "metadata": {
        "id": "RDeS4Q9Twnpo",
        "colab_type": "code",
        "colab": {
          "base_uri": "https://localhost:8080/",
          "height": 51
        },
        "outputId": "50e9ce6b-77aa-4b77-dd47-e842a93345d6"
      },
      "cell_type": "code",
      "source": [
        "my_string = \"Oggi è una stupenda giornata per studiare Natural Language Processing\"\n",
        "\n",
        "words_list = my_string.split()\n",
        "print(words_list)\n",
        "print(type(words_list))"
      ],
      "execution_count": 8,
      "outputs": [
        {
          "output_type": "stream",
          "text": [
            "['Oggi', 'è', 'una', 'stupenda', 'giornata', 'per', 'studiare', 'Natural', 'Language', 'Processing']\n",
            "<class 'list'>\n"
          ],
          "name": "stdout"
        }
      ]
    },
    {
      "metadata": {
        "id": "tculJJpnxRdO",
        "colab_type": "text"
      },
      "cell_type": "markdown",
      "source": [
        "Possiamo anche dividere le stringhe per un **pattern** definito da noi, semplicemente passano tale pattern come argomento del metdo *split(pattern)*, ad esempio possiamo dividerla per frasi passando un punto."
      ]
    },
    {
      "metadata": {
        "id": "yqCmMOMAxKs9",
        "colab_type": "code",
        "colab": {
          "base_uri": "https://localhost:8080/",
          "height": 51
        },
        "outputId": "51ae56c6-36c2-4064-a441-dd41f0385e7f"
      },
      "cell_type": "code",
      "source": [
        "my_string = \"Oggi è una stupenda giornata per studiare Natural Language Processing. Poi c'è Giuseppe che è davvero bravo. Peccato che è antipatico\"\n",
        "sentences_list = my_string.split(\".\")\n",
        "\n",
        "print(sentences_list)\n",
        "print(type(sentences_list))"
      ],
      "execution_count": 13,
      "outputs": [
        {
          "output_type": "stream",
          "text": [
            "['Oggi è una stupenda giornata per studiare Natural Language Processing', \" Poi c'è Giuseppe che è davvero bravo\", ' Peccato che è antipatico']\n",
            "<class 'list'>\n"
          ],
          "name": "stdout"
        }
      ]
    },
    {
      "metadata": {
        "id": "MscgTf7I00tL",
        "colab_type": "text"
      },
      "cell_type": "markdown",
      "source": [
        "Possiamo contare il numero di volte che una sotto-stringa compare in una stringa usando il metodo *count(substring)*"
      ]
    },
    {
      "metadata": {
        "id": "Y3O4h2c806li",
        "colab_type": "code",
        "colab": {
          "base_uri": "https://localhost:8080/",
          "height": 34
        },
        "outputId": "c0e05fd9-730d-4b08-8bc2-799d90596f11"
      },
      "cell_type": "code",
      "source": [
        "sub_count = my_string.count('è')\n",
        "print(\"La parola 'è' compare %d volte\" % sub_count)"
      ],
      "execution_count": 23,
      "outputs": [
        {
          "output_type": "stream",
          "text": [
            "La parola 'è' compare 4 volte\n"
          ],
          "name": "stdout"
        }
      ]
    },
    {
      "metadata": {
        "id": "nZFWfvTfyh8p",
        "colab_type": "text"
      },
      "cell_type": "markdown",
      "source": [
        "Possiamo sostituire una parola o una sotto-stringa della stringa utilizzando il metodo *replace(old, new)*, passandogli la sotto-stringa da sostituire e quella con la quale effettuare la sostituzione. Possiamo utilizzare questo stesso metodo per rimuovere una sotto-stringa dalla stringa passando una stringa vuota come secondo argomento."
      ]
    },
    {
      "metadata": {
        "id": "zj061ESBzGkA",
        "colab_type": "code",
        "colab": {
          "base_uri": "https://localhost:8080/",
          "height": 51
        },
        "outputId": "270ebe9d-2e7c-4ba0-9740-5ad4ad735bc2"
      },
      "cell_type": "code",
      "source": [
        "# sostuiamo la parola 'Poi' con 'E'\n",
        "# per tutte le occorrenze di 'Poi' nella stringa\n",
        "my_string = my_string.replace(\"Poi\",\"E\")\n",
        "print(my_string)\n",
        "\n",
        "# Rimuoviamo tutte le occorrenze di 'che'\n",
        "my_string = my_string.replace(\" che\",\"\") # rimuoviamo anche lo spazio prima della parola\n",
        "print(my_string)"
      ],
      "execution_count": 16,
      "outputs": [
        {
          "output_type": "stream",
          "text": [
            "Oggi è una stupenda giornata per studiare Natural Language Processing. E c'è Giuseppe è davvero bravo. Peccato è antipatico\n",
            "Oggi è una stupenda giornata per studiare Natural Language Processing. E c'è Giuseppe è davvero bravo. Peccato è antipatico\n"
          ],
          "name": "stdout"
        }
      ]
    },
    {
      "metadata": {
        "id": "vgfBKkEiyBFz",
        "colab_type": "text"
      },
      "cell_type": "markdown",
      "source": [
        "Possiamo effettuare la ricerca di una parola o di una sotto-stringa utilizzando il metodo *find()* questo ritornerà l'indice della prima occorrenza del risultato, oppure -1 se non trova nulla. Possiamo utilizzare tale metodo in combinazione con lo slicing per estrarre una sottostringa dalla stringa."
      ]
    },
    {
      "metadata": {
        "id": "b6BcHQ-9x0Y_",
        "colab_type": "code",
        "colab": {
          "base_uri": "https://localhost:8080/",
          "height": 68
        },
        "outputId": "38ffcf6e-5499-4080-d53f-bd6eedbddbea"
      },
      "cell_type": "code",
      "source": [
        "start_index = my_string.find(\"E\")\n",
        "print(\"Occorrenza di 'E' trovata in posizione %d\" % start_index)\n",
        "\n",
        "my_substring = my_string[start_index:]\n",
        "print(my_substring)\n",
        "\n",
        "end_index = my_substring.find(\".\")\n",
        "my_substring = my_substring[:end_index]\n",
        "print(my_substring)"
      ],
      "execution_count": 20,
      "outputs": [
        {
          "output_type": "stream",
          "text": [
            "Occorrenza di 'E' trovata in posizione 71\n",
            "E c'è Giuseppe è davvero bravo. Peccato è antipatico\n",
            "E c'è Giuseppe è davvero bravo\n"
          ],
          "name": "stdout"
        }
      ]
    },
    {
      "metadata": {
        "id": "Y-8uEfS13dmg",
        "colab_type": "text"
      },
      "cell_type": "markdown",
      "source": [
        "Se invece vogliamo conoscere l'indice dell'ultima occorrenza possiamo usare il metodo *rfind()*."
      ]
    },
    {
      "metadata": {
        "id": "bGzU1pfY3lTw",
        "colab_type": "code",
        "colab": {
          "base_uri": "https://localhost:8080/",
          "height": 51
        },
        "outputId": "c2e5fa4b-fcca-4414-8502-57b4662b05be"
      },
      "cell_type": "code",
      "source": [
        "my_string = \"Occhio per occhio dente per dente\"\n",
        "print(my_string.find('dente')) # prima occorrenza\n",
        "print(my_string.rfind('dente')) # ultima occorrenza b"
      ],
      "execution_count": 30,
      "outputs": [
        {
          "output_type": "stream",
          "text": [
            "18\n",
            "28\n"
          ],
          "name": "stdout"
        }
      ]
    },
    {
      "metadata": {
        "id": "iOqyBSP72sWa",
        "colab_type": "text"
      },
      "cell_type": "markdown",
      "source": [
        "Gli ultimi metodi, che potrebbero sembrare inutili ma che in realtà sono davvero utili quando operiamo su corpus di testo, sono *lstrip() e strip()*, che rispettivamente rimuovo gli spazi dall'inizio della stringa e dall'inizio e la fine della stringa."
      ]
    },
    {
      "metadata": {
        "id": "n6XSw21W0Nvi",
        "colab_type": "code",
        "colab": {
          "base_uri": "https://localhost:8080/",
          "height": 51
        },
        "outputId": "e4122a46-4023-47c6-bb8b-4b7598cf354a"
      },
      "cell_type": "code",
      "source": [
        "string = \"   Questo è un test  \"\n",
        "print('\"'+string.lstrip()+'\"')\n",
        "print('\"'+string.strip()+'\"')\n",
        "\n",
        "# ricorda di effettuare l'assegnazione\n",
        "# per modificare la stringa\n",
        "# string = string.strip()"
      ],
      "execution_count": 28,
      "outputs": [
        {
          "output_type": "stream",
          "text": [
            "\"Questo è un test  \"\n",
            "\"Questo è un test\"\n"
          ],
          "name": "stdout"
        }
      ]
    },
    {
      "metadata": {
        "id": "yIkfxX7-2JNp",
        "colab_type": "text"
      },
      "cell_type": "markdown",
      "source": [
        "## Link utili\n",
        "- https://www.w3schools.com/python/python_ref_string.asp"
      ]
    },
    {
      "metadata": {
        "id": "6ERzMkmm2MtZ",
        "colab_type": "code",
        "colab": {}
      },
      "cell_type": "code",
      "source": [
        ""
      ],
      "execution_count": 0,
      "outputs": []
    }
  ]
}